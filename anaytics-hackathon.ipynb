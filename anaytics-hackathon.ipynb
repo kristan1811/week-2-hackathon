{
 "cells": [
  {
   "cell_type": "code",
   "execution_count": 1,
   "id": "c592072f",
   "metadata": {
    "execution": {
     "iopub.execute_input": "2025-06-11T17:24:29.393489Z",
     "iopub.status.busy": "2025-06-11T17:24:29.393147Z",
     "iopub.status.idle": "2025-06-11T17:24:34.883825Z",
     "shell.execute_reply": "2025-06-11T17:24:34.882363Z"
    },
    "papermill": {
     "duration": 5.496172,
     "end_time": "2025-06-11T17:24:34.885688",
     "exception": false,
     "start_time": "2025-06-11T17:24:29.389516",
     "status": "completed"
    },
    "tags": []
   },
   "outputs": [
    {
     "name": "stdout",
     "output_type": "stream",
     "text": [
      "Requirement already satisfied: numpy<2 in /usr/local/lib/python3.11/dist-packages (1.26.4)\r\n",
      "Requirement already satisfied: mkl_fft in /usr/local/lib/python3.11/dist-packages (from numpy<2) (1.3.8)\r\n",
      "Requirement already satisfied: mkl_random in /usr/local/lib/python3.11/dist-packages (from numpy<2) (1.2.4)\r\n",
      "Requirement already satisfied: mkl_umath in /usr/local/lib/python3.11/dist-packages (from numpy<2) (0.1.1)\r\n",
      "Requirement already satisfied: mkl in /usr/local/lib/python3.11/dist-packages (from numpy<2) (2025.1.0)\r\n",
      "Requirement already satisfied: tbb4py in /usr/local/lib/python3.11/dist-packages (from numpy<2) (2022.1.0)\r\n",
      "Requirement already satisfied: mkl-service in /usr/local/lib/python3.11/dist-packages (from numpy<2) (2.4.1)\r\n",
      "Requirement already satisfied: intel-openmp<2026,>=2024 in /usr/local/lib/python3.11/dist-packages (from mkl->numpy<2) (2024.2.0)\r\n",
      "Requirement already satisfied: tbb==2022.* in /usr/local/lib/python3.11/dist-packages (from mkl->numpy<2) (2022.1.0)\r\n",
      "Requirement already satisfied: tcmlib==1.* in /usr/local/lib/python3.11/dist-packages (from tbb==2022.*->mkl->numpy<2) (1.3.0)\r\n",
      "Requirement already satisfied: intel-cmplr-lib-rt in /usr/local/lib/python3.11/dist-packages (from mkl_umath->numpy<2) (2024.2.0)\r\n",
      "Requirement already satisfied: intel-cmplr-lib-ur==2024.2.0 in /usr/local/lib/python3.11/dist-packages (from intel-openmp<2026,>=2024->mkl->numpy<2) (2024.2.0)\r\n",
      "Note: you may need to restart the kernel to use updated packages.\n"
     ]
    }
   ],
   "source": [
    "pip install \"numpy<2\"\n"
   ]
  },
  {
   "cell_type": "code",
   "execution_count": 2,
   "id": "0d1e591d",
   "metadata": {
    "execution": {
     "iopub.execute_input": "2025-06-11T17:24:34.891590Z",
     "iopub.status.busy": "2025-06-11T17:24:34.891237Z",
     "iopub.status.idle": "2025-06-11T17:24:59.929748Z",
     "shell.execute_reply": "2025-06-11T17:24:59.928980Z"
    },
    "papermill": {
     "duration": 25.043695,
     "end_time": "2025-06-11T17:24:59.931758",
     "exception": false,
     "start_time": "2025-06-11T17:24:34.888063",
     "status": "completed"
    },
    "tags": []
   },
   "outputs": [
    {
     "name": "stdout",
     "output_type": "stream",
     "text": [
      "Submission file saved as 'submission.csv'\n",
      "        ID    class\n",
      "0        1    grass\n",
      "1        2  orchard\n",
      "2        3  orchard\n",
      "3        4    water\n",
      "4        5  orchard\n",
      "...    ...      ...\n",
      "2840  2841    water\n",
      "2841  2842    water\n",
      "2842  2843    water\n",
      "2843  2844    water\n",
      "2844  2845    water\n",
      "\n",
      "[2845 rows x 2 columns]\n"
     ]
    }
   ],
   "source": [
    "import numpy as np\n",
    "import pandas as pd\n",
    "from scipy.signal import savgol_filter\n",
    "from scipy.interpolate import interp1d\n",
    "from sklearn.linear_model import LogisticRegression\n",
    "from sklearn.preprocessing import StandardScaler\n",
    "from sklearn.pipeline import make_pipeline\n",
    "from sklearn.model_selection import GridSearchCV\n",
    "\n",
    "# Load new data\n",
    "train_data = pd.read_csv('/kaggle/input/summer-analytics-mid-hackathon/hacktrain.csv')\n",
    "test_data = pd.read_csv('/kaggle/input/summer-analytics-mid-hackathon/hacktest.csv')\n",
    "\n",
    "\n",
    "\n",
    "\n",
    "# Preprocessing function\n",
    "def preprocess_ndvi(data):\n",
    "    # Extract NDVI columns (assuming format like '20200101_N')\n",
    "    ndvi_cols = [col for col in data.columns if col.endswith('_N')]\n",
    "    dates = [pd.to_datetime(col.split('_')[0]) for col in ndvi_cols]\n",
    "    \n",
    "    # Sort columns by date\n",
    "    sorted_cols = [x for _, x in sorted(zip(dates, ndvi_cols))]\n",
    "    sorted_dates = sorted(dates)\n",
    "    \n",
    "    # Create NDVI matrix\n",
    "    ndvi_matrix = data[sorted_cols].values\n",
    "    \n",
    "    # Interpolation for missing values\n",
    "    for i in range(ndvi_matrix.shape[0]):\n",
    "        valid_mask = ~np.isnan(ndvi_matrix[i])\n",
    "        if np.sum(valid_mask) > 1:\n",
    "            f = interp1d(np.where(valid_mask)[0], ndvi_matrix[i, valid_mask], \n",
    "                         kind='linear', fill_value='extrapolate')\n",
    "            ndvi_matrix[i] = f(np.arange(ndvi_matrix.shape[1]))\n",
    "        elif np.sum(valid_mask) == 1:\n",
    "            ndvi_matrix[i] = np.where(valid_mask, ndvi_matrix[i, valid_mask], ndvi_matrix[i, valid_mask])\n",
    "    \n",
    "    # Apply Savitzky-Golay filter\n",
    "    ndvi_matrix = savgol_filter(ndvi_matrix, window_length=5, polyorder=2, axis=1)\n",
    "    \n",
    "    return ndvi_matrix, sorted_dates\n",
    "\n",
    "# Feature engineering\n",
    "def extract_features(ndvi_matrix, dates):\n",
    "    features = {\n",
    "        'mean': np.mean(ndvi_matrix, axis=1),\n",
    "        'median': np.median(ndvi_matrix, axis=1),\n",
    "        'std': np.std(ndvi_matrix, axis=1),\n",
    "        'min': np.min(ndvi_matrix, axis=1),\n",
    "        'max': np.max(ndvi_matrix, axis=1),\n",
    "        'range': np.ptp(ndvi_matrix, axis=1),\n",
    "    }\n",
    "    \n",
    "    # Slope (trend)\n",
    "    x = np.arange(ndvi_matrix.shape[1])\n",
    "    slopes = []\n",
    "    for row in ndvi_matrix:\n",
    "        if np.all(~np.isnan(row)):\n",
    "            slope = np.polyfit(x, row, 1)[0]\n",
    "        else:\n",
    "            slope = np.nan\n",
    "        slopes.append(slope)\n",
    "    features['slope'] = slopes\n",
    "\n",
    "    # Seasonal statistics\n",
    "    seasons = []\n",
    "    for date in dates:\n",
    "        month = date.month\n",
    "        if month in [12, 1, 2]:\n",
    "            seasons.append('winter')\n",
    "        elif month in [3, 4, 5]:\n",
    "            seasons.append('spring')\n",
    "        elif month in [6, 7, 8]:\n",
    "            seasons.append('summer')\n",
    "        else:\n",
    "            seasons.append('fall')\n",
    "    \n",
    "    unique_seasons = list(set(seasons))\n",
    "    for season in unique_seasons:\n",
    "        season_mask = np.array([s == season for s in seasons])\n",
    "        features[f'mean_{season}'] = np.mean(ndvi_matrix[:, season_mask], axis=1)\n",
    "        features[f'std_{season}'] = np.std(ndvi_matrix[:, season_mask], axis=1)\n",
    "    \n",
    "    return pd.DataFrame(features)\n",
    "\n",
    "# Process training data\n",
    "X_train_ndvi, dates = preprocess_ndvi(train_data)\n",
    "X_train_features = extract_features(X_train_ndvi, dates)\n",
    "y_train = train_data['class']  # Make sure 'class' column exists\n",
    "\n",
    "# Process test data\n",
    "X_test_ndvi, _ = preprocess_ndvi(test_data)\n",
    "X_test_features = extract_features(X_test_ndvi, dates)\n",
    "\n",
    "# Model pipeline\n",
    "pipeline = make_pipeline(\n",
    "    StandardScaler(),\n",
    "    LogisticRegression(max_iter=1000, class_weight='balanced')\n",
    ")\n",
    "\n",
    "\n",
    "\n",
    "\n",
    "# Parameter grid for logistic regression\n",
    "param_grid = {\n",
    "    'logisticregression__C': [0.01, 0.1, 1, 10, 100]\n",
    "}\n",
    "\n",
    "# Grid search cross-validation\n",
    "grid_search = GridSearchCV(pipeline, param_grid, cv=5, scoring='accuracy')\n",
    "grid_search.fit(X_train_features, y_train)\n",
    "\n",
    "# Best model from grid search\n",
    "best_model = grid_search.best_estimator_\n",
    "\n",
    "# Predictions on test data\n",
    "test_preds = best_model.predict(X_test_features)\n",
    "\n",
    "# Prepare submission\n",
    "submission = pd.DataFrame({\n",
    "    'ID': test_data['ID'],  # Make sure 'ID' column exists in test set\n",
    "    'class': test_preds\n",
    "})\n",
    "submission.to_csv('submission.csv', index=False)\n",
    "print(\"Submission file saved as 'submission.csv'\")\n",
    "print(submission)\n"
   ]
  },
  {
   "cell_type": "code",
   "execution_count": 3,
   "id": "c7ab53a7",
   "metadata": {
    "execution": {
     "iopub.execute_input": "2025-06-11T17:24:59.938522Z",
     "iopub.status.busy": "2025-06-11T17:24:59.938170Z",
     "iopub.status.idle": "2025-06-11T17:24:59.946656Z",
     "shell.execute_reply": "2025-06-11T17:24:59.945861Z"
    },
    "papermill": {
     "duration": 0.013877,
     "end_time": "2025-06-11T17:24:59.948527",
     "exception": false,
     "start_time": "2025-06-11T17:24:59.934650",
     "status": "completed"
    },
    "tags": []
   },
   "outputs": [
    {
     "name": "stdout",
     "output_type": "stream",
     "text": [
      "/kaggle/working\n"
     ]
    }
   ],
   "source": [
    "import os\n",
    "print(os.getcwd())\n"
   ]
  }
 ],
 "metadata": {
  "kaggle": {
   "accelerator": "none",
   "dataSources": [
    {
     "databundleVersionId": 12585144,
     "sourceId": 104491,
     "sourceType": "competition"
    }
   ],
   "dockerImageVersionId": 31040,
   "isGpuEnabled": false,
   "isInternetEnabled": false,
   "language": "python",
   "sourceType": "notebook"
  },
  "kernelspec": {
   "display_name": "Python 3",
   "language": "python",
   "name": "python3"
  },
  "language_info": {
   "codemirror_mode": {
    "name": "ipython",
    "version": 3
   },
   "file_extension": ".py",
   "mimetype": "text/x-python",
   "name": "python",
   "nbconvert_exporter": "python",
   "pygments_lexer": "ipython3",
   "version": "3.11.11"
  },
  "papermill": {
   "default_parameters": {},
   "duration": 36.539984,
   "end_time": "2025-06-11T17:25:00.672754",
   "environment_variables": {},
   "exception": null,
   "input_path": "__notebook__.ipynb",
   "output_path": "__notebook__.ipynb",
   "parameters": {},
   "start_time": "2025-06-11T17:24:24.132770",
   "version": "2.6.0"
  }
 },
 "nbformat": 4,
 "nbformat_minor": 5
}
